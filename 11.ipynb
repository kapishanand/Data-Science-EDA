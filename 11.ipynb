{
 "cells": [
  {
   "cell_type": "code",
   "execution_count": 1,
   "id": "3159684c-2160-4639-a7d8-aa78132ef862",
   "metadata": {},
   "outputs": [
    {
     "data": {
      "text/plain": [
       "False"
      ]
     },
     "execution_count": 1,
     "metadata": {},
     "output_type": "execute_result"
    }
   ],
   "source": [
    "bool(0)"
   ]
  },
  {
   "cell_type": "code",
   "execution_count": 2,
   "id": "7d910aa9-1aeb-4e7b-9782-ad766bc275d7",
   "metadata": {},
   "outputs": [
    {
     "data": {
      "text/plain": [
       "True"
      ]
     },
     "execution_count": 2,
     "metadata": {},
     "output_type": "execute_result"
    }
   ],
   "source": [
    "bool(1)"
   ]
  },
  {
   "cell_type": "code",
   "execution_count": 3,
   "id": "0afbb5a1-67bd-404d-896a-5a6b33ff775c",
   "metadata": {},
   "outputs": [
    {
     "name": "stdout",
     "output_type": "stream",
     "text": [
      "hello\n"
     ]
    }
   ],
   "source": [
    "a=1\n",
    "if bool(a) == True:\n",
    "    print('hello')"
   ]
  },
  {
   "cell_type": "markdown",
   "id": "f6a7cdee-c5cc-4ecf-bf79-6fb532692161",
   "metadata": {},
   "source": [
    "##hello"
   ]
  },
  {
   "cell_type": "markdown",
   "id": "0983f597-892e-49ae-81b9-69da82ad3b49",
   "metadata": {},
   "source": [
    "hello"
   ]
  },
  {
   "cell_type": "markdown",
   "id": "a73574c7-546f-4afc-9435-2b6de7390255",
   "metadata": {},
   "source": [
    "#HELLO"
   ]
  },
  {
   "cell_type": "markdown",
   "id": "4d9eef46-6695-4962-a2f7-78d43037d7d9",
   "metadata": {},
   "source": [
    "## HELLO"
   ]
  },
  {
   "cell_type": "markdown",
   "id": "9b7f5c41-21b5-4f3d-a4da-b14c81bd06b8",
   "metadata": {},
   "source": [
    "##HELLO"
   ]
  },
  {
   "cell_type": "markdown",
   "id": "6e5aabe6-6313-43ca-9abd-49ba4532e03b",
   "metadata": {},
   "source": [
    "#HELLO"
   ]
  },
  {
   "cell_type": "markdown",
   "id": "af2d48df-91b5-44fe-8320-bbad37456b32",
   "metadata": {},
   "source": [
    "#HELLO"
   ]
  },
  {
   "cell_type": "markdown",
   "id": "44e98d74-66ec-46ad-b46b-e6a76f7358b9",
   "metadata": {},
   "source": [
    "##HELLO"
   ]
  },
  {
   "cell_type": "markdown",
   "id": "0a55aad1-cbb9-4af8-b7a2-3710e2703aab",
   "metadata": {},
   "source": [
    "# HELLO"
   ]
  },
  {
   "cell_type": "markdown",
   "id": "28a8973d-1108-4631-867a-b95d3b6d6c7a",
   "metadata": {},
   "source": [
    "## HELLO"
   ]
  },
  {
   "cell_type": "markdown",
   "id": "063b9f1e-f38c-4a11-a0d3-c1ea94e75da7",
   "metadata": {},
   "source": [
    "### HELLO"
   ]
  },
  {
   "cell_type": "markdown",
   "id": "ce656162-d8a5-4153-a5d6-2779a98bed02",
   "metadata": {},
   "source": [
    "#### HELLO"
   ]
  },
  {
   "cell_type": "code",
   "execution_count": null,
   "id": "9020d61c-50e0-43d3-a587-23b5f93848bf",
   "metadata": {},
   "outputs": [],
   "source": []
  },
  {
   "cell_type": "raw",
   "id": "a4916af3-76bc-4f01-8dc1-2a5dcbf0b7d6",
   "metadata": {},
   "source": [
    "HELLO"
   ]
  },
  {
   "cell_type": "raw",
   "id": "7f1dc266-5845-4f5a-be71-c875de1dd796",
   "metadata": {},
   "source": [
    "HELLO"
   ]
  },
  {
   "cell_type": "code",
   "execution_count": 6,
   "id": "5adcc6a1-7885-44e4-beb6-71fba9902421",
   "metadata": {},
   "outputs": [
    {
     "data": {
      "text/plain": [
       "1"
      ]
     },
     "execution_count": 6,
     "metadata": {},
     "output_type": "execute_result"
    }
   ],
   "source": [
    "int(1.54)"
   ]
  },
  {
   "cell_type": "code",
   "execution_count": null,
   "id": "1dc2d76f-7987-46c7-9057-5804c2a9ab88",
   "metadata": {},
   "outputs": [],
   "source": []
  },
  {
   "cell_type": "code",
   "execution_count": 7,
   "id": "6d046cc5-aa9f-4937-8534-de771a7fc430",
   "metadata": {},
   "outputs": [
    {
     "data": {
      "text/plain": [
       "True"
      ]
     },
     "execution_count": 7,
     "metadata": {},
     "output_type": "execute_result"
    }
   ],
   "source": [
    "bool(2)"
   ]
  },
  {
   "cell_type": "code",
   "execution_count": 8,
   "id": "bddc8997-2fa1-4865-bcdc-29c18101397a",
   "metadata": {},
   "outputs": [
    {
     "data": {
      "text/plain": [
       "False"
      ]
     },
     "execution_count": 8,
     "metadata": {},
     "output_type": "execute_result"
    }
   ],
   "source": [
    "bool(0)"
   ]
  },
  {
   "cell_type": "code",
   "execution_count": 9,
   "id": "47f860d1-377d-470f-b2f3-91f063084741",
   "metadata": {},
   "outputs": [
    {
     "data": {
      "text/plain": [
       "True"
      ]
     },
     "execution_count": 9,
     "metadata": {},
     "output_type": "execute_result"
    }
   ],
   "source": [
    "bool(1)"
   ]
  },
  {
   "cell_type": "code",
   "execution_count": 10,
   "id": "07599188-4dee-4547-b539-37bee0f8feb2",
   "metadata": {},
   "outputs": [
    {
     "data": {
      "text/plain": [
       "True"
      ]
     },
     "execution_count": 10,
     "metadata": {},
     "output_type": "execute_result"
    }
   ],
   "source": [
    "bool(1.0)"
   ]
  },
  {
   "cell_type": "code",
   "execution_count": 11,
   "id": "30bcae08-3d20-4705-9cd4-b9d3fa9820d7",
   "metadata": {},
   "outputs": [
    {
     "data": {
      "text/plain": [
       "True"
      ]
     },
     "execution_count": 11,
     "metadata": {},
     "output_type": "execute_result"
    }
   ],
   "source": [
    "bool(0.4)"
   ]
  },
  {
   "cell_type": "code",
   "execution_count": 12,
   "id": "7a60d1e0-a42d-4063-9318-c4c4968b4aad",
   "metadata": {},
   "outputs": [
    {
     "data": {
      "text/plain": [
       "True"
      ]
     },
     "execution_count": 12,
     "metadata": {},
     "output_type": "execute_result"
    }
   ],
   "source": [
    "bool(-1)"
   ]
  },
  {
   "cell_type": "code",
   "execution_count": 1,
   "id": "af1cf252-2b46-4024-8b15-273a47c28a99",
   "metadata": {},
   "outputs": [
    {
     "data": {
      "text/plain": [
       "0"
      ]
     },
     "execution_count": 1,
     "metadata": {},
     "output_type": "execute_result"
    }
   ],
   "source": [
    "int()"
   ]
  },
  {
   "cell_type": "code",
   "execution_count": 5,
   "id": "6a8b26b3-6165-428b-9e5b-bee2f66ff889",
   "metadata": {},
   "outputs": [
    {
     "data": {
      "text/plain": [
       "123"
      ]
     },
     "execution_count": 5,
     "metadata": {},
     "output_type": "execute_result"
    }
   ],
   "source": [
    "int('123')"
   ]
  },
  {
   "cell_type": "code",
   "execution_count": 4,
   "id": "9cdc4a41-a869-49f7-af85-e2022896e50d",
   "metadata": {},
   "outputs": [
    {
     "ename": "ValueError",
     "evalue": "invalid literal for int() with base 10: 'abcd'",
     "output_type": "error",
     "traceback": [
      "\u001b[0;31m---------------------------------------------------------------------------\u001b[0m",
      "\u001b[0;31mValueError\u001b[0m                                Traceback (most recent call last)",
      "Cell \u001b[0;32mIn[4], line 1\u001b[0m\n\u001b[0;32m----> 1\u001b[0m \u001b[38;5;28;43mint\u001b[39;49m\u001b[43m(\u001b[49m\u001b[38;5;124;43m'\u001b[39;49m\u001b[38;5;124;43mabcd\u001b[39;49m\u001b[38;5;124;43m'\u001b[39;49m\u001b[43m)\u001b[49m\n",
      "\u001b[0;31mValueError\u001b[0m: invalid literal for int() with base 10: 'abcd'"
     ]
    }
   ],
   "source": [
    "int('abcd')"
   ]
  },
  {
   "cell_type": "code",
   "execution_count": 6,
   "id": "0ba3f176-18f1-49c4-a9f1-5b1d1e4ad3fd",
   "metadata": {},
   "outputs": [
    {
     "name": "stdout",
     "output_type": "stream",
     "text": [
      "my age is 32\n"
     ]
    }
   ],
   "source": [
    "age=32\n",
    "print('my age is',age)"
   ]
  },
  {
   "cell_type": "code",
   "execution_count": 8,
   "id": "dc5a516b-6985-4aa3-a65f-566d0f74afe0",
   "metadata": {},
   "outputs": [
    {
     "name": "stdout",
     "output_type": "stream",
     "text": [
      "my age is  32\n"
     ]
    }
   ],
   "source": [
    "print(f'my age is  {age}')"
   ]
  },
  {
   "cell_type": "code",
   "execution_count": 12,
   "id": "d924ea93-09ce-40bb-b8fc-e449c3346e72",
   "metadata": {},
   "outputs": [
    {
     "name": "stdout",
     "output_type": "stream",
     "text": [
      "32 age is abc\n"
     ]
    }
   ],
   "source": [
    "name='abc'\n",
    "print('{} age is {}'.format(age,name))"
   ]
  },
  {
   "cell_type": "code",
   "execution_count": 13,
   "id": "a64d1b22-c326-4df6-b6b5-77a700bffe8d",
   "metadata": {},
   "outputs": [
    {
     "name": "stdout",
     "output_type": "stream",
     "text": [
      "my abc is 32\n"
     ]
    }
   ],
   "source": [
    "print('my {firstname} is {firstage}'.format(firstage=age,firstname=name))"
   ]
  },
  {
   "cell_type": "code",
   "execution_count": 14,
   "id": "c4fd037b-8533-4209-b2ba-0e8b0e536903",
   "metadata": {},
   "outputs": [
    {
     "name": "stdout",
     "output_type": "stream",
     "text": [
      "my age is 33 and I have completed: my degree of BE with name of Kapish Anand\n"
     ]
    }
   ],
   "source": [
    "name='Kapish Anand'\n",
    "age=33\n",
    "degree='BE'\n",
    "\n",
    "print(f'my age is {age} and I have completed: my degree of {degree} with name of {name}')"
   ]
  },
  {
   "cell_type": "code",
   "execution_count": 17,
   "id": "14035636-1962-4f7d-966b-d53750bdfe7c",
   "metadata": {},
   "outputs": [
    {
     "name": "stdout",
     "output_type": "stream",
     "text": [
      "my age is 33 and I have completed: my degree of BE with name of Kapish Anand\n"
     ]
    }
   ],
   "source": [
    "print('my age is {} and I have completed: my degree of {} with name of {}'.format(age,degree,name))"
   ]
  },
  {
   "cell_type": "code",
   "execution_count": 18,
   "id": "11ece64c-8da4-46c9-b6b3-6c925a40a668",
   "metadata": {},
   "outputs": [
    {
     "name": "stdout",
     "output_type": "stream",
     "text": [
      "my age is 33 and I have completed: my degree of BE with name of Kapish Anand\n"
     ]
    }
   ],
   "source": [
    "print('my age is {firstage} and I have completed: my degree of {deg} with name of {nm}'.format(firstage=age,\n",
    "                                                                                          deg=degree,nm=name))"
   ]
  },
  {
   "cell_type": "code",
   "execution_count": 19,
   "id": "e38381d8-0d6d-40fa-962c-8e072a4b9009",
   "metadata": {},
   "outputs": [
    {
     "name": "stdout",
     "output_type": "stream",
     "text": [
      "You are eligible to Vote\n"
     ]
    }
   ],
   "source": [
    "age=18\n",
    "if age ==18:\n",
    "    print('You are eligible to Vote')"
   ]
  },
  {
   "cell_type": "markdown",
   "id": "3cb8bb89-d01d-4c02-b933-e06c7da3799b",
   "metadata": {},
   "source": [
    "19<18"
   ]
  },
  {
   "cell_type": "code",
   "execution_count": 20,
   "id": "ed5c549b-1243-40f0-8b4f-cc71331b06dc",
   "metadata": {},
   "outputs": [
    {
     "data": {
      "text/plain": [
       "True"
      ]
     },
     "execution_count": 20,
     "metadata": {},
     "output_type": "execute_result"
    }
   ],
   "source": [
    "18<=18"
   ]
  },
  {
   "cell_type": "code",
   "execution_count": 21,
   "id": "01e0d558-211d-43de-8ef3-78e9090b4665",
   "metadata": {},
   "outputs": [
    {
     "data": {
      "text/plain": [
       "False"
      ]
     },
     "execution_count": 21,
     "metadata": {},
     "output_type": "execute_result"
    }
   ],
   "source": [
    "19<18"
   ]
  },
  {
   "cell_type": "code",
   "execution_count": 22,
   "id": "6001bf64-86d7-43da-942e-42a84c61113f",
   "metadata": {},
   "outputs": [
    {
     "name": "stdin",
     "output_type": "stream",
     "text": [
      " hello\n"
     ]
    },
    {
     "data": {
      "text/plain": [
       "'hello'"
      ]
     },
     "execution_count": 22,
     "metadata": {},
     "output_type": "execute_result"
    }
   ],
   "source": [
    "input()"
   ]
  },
  {
   "cell_type": "code",
   "execution_count": 23,
   "id": "54771561-a72f-432e-9589-1b82810916e3",
   "metadata": {},
   "outputs": [
    {
     "name": "stdin",
     "output_type": "stream",
     "text": [
      "Enter the name Kapish\n"
     ]
    }
   ],
   "source": [
    "name=input('Enter the name')"
   ]
  },
  {
   "cell_type": "code",
   "execution_count": 24,
   "id": "f64ebabd-1797-48dc-88c0-cf76e346b103",
   "metadata": {},
   "outputs": [
    {
     "data": {
      "text/plain": [
       "'Kapish'"
      ]
     },
     "execution_count": 24,
     "metadata": {},
     "output_type": "execute_result"
    }
   ],
   "source": [
    "name"
   ]
  },
  {
   "cell_type": "code",
   "execution_count": 25,
   "id": "2c7cf11b-fd30-4fec-94b4-1da4b692f880",
   "metadata": {},
   "outputs": [
    {
     "name": "stdin",
     "output_type": "stream",
     "text": [
      "Enter your age 33\n"
     ]
    }
   ],
   "source": [
    "age=int(input('Enter your age'))"
   ]
  },
  {
   "cell_type": "code",
   "execution_count": 26,
   "id": "d73f9f4e-1e23-4cee-a597-eb46a32fc9e6",
   "metadata": {},
   "outputs": [
    {
     "data": {
      "text/plain": [
       "33"
      ]
     },
     "execution_count": 26,
     "metadata": {},
     "output_type": "execute_result"
    }
   ],
   "source": [
    "age"
   ]
  },
  {
   "cell_type": "code",
   "execution_count": 27,
   "id": "2355be0e-ccaa-46a2-9361-7f83c7fe6f12",
   "metadata": {},
   "outputs": [
    {
     "name": "stdin",
     "output_type": "stream",
     "text": [
      "Enter your age 33\n"
     ]
    }
   ],
   "source": [
    "age=int(input('Enter your age'))"
   ]
  },
  {
   "cell_type": "code",
   "execution_count": 28,
   "id": "34432a10-a31f-4754-b48e-5b8a060b6d53",
   "metadata": {},
   "outputs": [
    {
     "name": "stdout",
     "output_type": "stream",
     "text": [
      "You are young blood\n"
     ]
    }
   ],
   "source": [
    "if age >=18 and age<=45:\n",
    "    print('You are young blood')"
   ]
  },
  {
   "cell_type": "code",
   "execution_count": 34,
   "id": "264527ee-b084-4aea-b7cd-51a76addea34",
   "metadata": {},
   "outputs": [
    {
     "name": "stdin",
     "output_type": "stream",
     "text": [
      "Enter the amount 2000\n"
     ]
    },
    {
     "name": "stdout",
     "output_type": "stream",
     "text": [
      "The price of product is 1600\n"
     ]
    }
   ],
   "source": [
    "product_price =int(input('Enter the amount'))\n",
    "\n",
    "if product_price > 1000:\n",
    "    print('The price of product is {}'.format(int(product_price*0.8)))\n",
    "else:\n",
    "    print('The price of product is {}'.format(int(product_price*0.7)))\n",
    "    "
   ]
  },
  {
   "cell_type": "code",
   "execution_count": 36,
   "id": "f1d71fbf-67d3-4ed0-8ad1-5ed5eb0df2cf",
   "metadata": {},
   "outputs": [
    {
     "name": "stdin",
     "output_type": "stream",
     "text": [
      "Enter the amount 2000\n"
     ]
    },
    {
     "name": "stdout",
     "output_type": "stream",
     "text": [
      "The price of product is 1600\n"
     ]
    }
   ],
   "source": [
    "product_price =int(input('Enter the amount'))\n",
    "\n",
    "if product_price > 1000:\n",
    "    print(f'The price of product is {int(product_price*0.8)}')\n",
    "else:\n",
    "    print(f'The price of product is {int(product_price*0.7)}')\n",
    "    "
   ]
  },
  {
   "cell_type": "code",
   "execution_count": null,
   "id": "f08660f3-c759-4685-9487-112ff4a09470",
   "metadata": {},
   "outputs": [],
   "source": [
    "product_price =int(input('Enter the amount'))\n",
    "\n",
    "if product_price > 1000:\n",
    "    print(f'The price of product is {int(product_price*0.8)}')\n",
    "else:\n",
    "    print(f'The price of product is {int(product_price*0.7)}')\n",
    "    "
   ]
  },
  {
   "cell_type": "code",
   "execution_count": 37,
   "id": "37a0e4dc-5677-4b17-97c6-1d06ea670c61",
   "metadata": {},
   "outputs": [
    {
     "name": "stdout",
     "output_type": "stream",
     "text": [
      "hello\n"
     ]
    }
   ],
   "source": [
    "val=99\n",
    "if val <100: print('hello')"
   ]
  },
  {
   "cell_type": "code",
   "execution_count": null,
   "id": "98a6fba7-be79-458d-a980-94a8d7e98e4c",
   "metadata": {},
   "outputs": [],
   "source": []
  },
  {
   "cell_type": "code",
   "execution_count": null,
   "id": "d2b4294f-7abf-49ee-aa45-19e08ccd5237",
   "metadata": {},
   "outputs": [],
   "source": []
  },
  {
   "cell_type": "code",
   "execution_count": null,
   "id": "1ad00ef8-0779-41d0-935c-bc6282901f44",
   "metadata": {},
   "outputs": [],
   "source": []
  },
  {
   "cell_type": "code",
   "execution_count": null,
   "id": "dd68ef7e-9c01-47ce-8420-cdee56f9d858",
   "metadata": {},
   "outputs": [],
   "source": []
  },
  {
   "cell_type": "code",
   "execution_count": null,
   "id": "4612f542-923e-43f2-994c-e337cffe4c7e",
   "metadata": {},
   "outputs": [],
   "source": []
  },
  {
   "cell_type": "code",
   "execution_count": null,
   "id": "fd9bddbb-b98a-4344-a93c-bfe0056cecd8",
   "metadata": {},
   "outputs": [],
   "source": []
  },
  {
   "cell_type": "code",
   "execution_count": null,
   "id": "68102875-d5cf-479a-9752-40627eccfb82",
   "metadata": {},
   "outputs": [],
   "source": []
  },
  {
   "cell_type": "code",
   "execution_count": null,
   "id": "7fdfb09b-a5d5-44cc-ac85-63e33c4105be",
   "metadata": {},
   "outputs": [],
   "source": []
  },
  {
   "cell_type": "code",
   "execution_count": null,
   "id": "6cbd3637-b20a-4ac9-86b4-729a264b79f1",
   "metadata": {},
   "outputs": [],
   "source": []
  },
  {
   "cell_type": "code",
   "execution_count": null,
   "id": "8a45b32b-d3c5-47f3-b3ac-226e877bfde3",
   "metadata": {},
   "outputs": [],
   "source": []
  },
  {
   "cell_type": "code",
   "execution_count": null,
   "id": "e61f5499-0fc0-4a6c-9ebc-248a242961ef",
   "metadata": {},
   "outputs": [],
   "source": []
  },
  {
   "cell_type": "code",
   "execution_count": null,
   "id": "c5a3dbea-101b-4734-a96b-2f4e93513a64",
   "metadata": {},
   "outputs": [],
   "source": []
  },
  {
   "cell_type": "code",
   "execution_count": null,
   "id": "62b6ea87-276b-4d37-99dd-3f020f861ca0",
   "metadata": {},
   "outputs": [],
   "source": []
  },
  {
   "cell_type": "code",
   "execution_count": null,
   "id": "79c2825e-49a9-48db-b6b7-b260ff7a592d",
   "metadata": {},
   "outputs": [],
   "source": []
  },
  {
   "cell_type": "code",
   "execution_count": null,
   "id": "5185194b-0500-4638-bbd3-180812e7f66d",
   "metadata": {},
   "outputs": [],
   "source": []
  }
 ],
 "metadata": {
  "kernelspec": {
   "display_name": "Python 3 (ipykernel)",
   "language": "python",
   "name": "python3"
  },
  "language_info": {
   "codemirror_mode": {
    "name": "ipython",
    "version": 3
   },
   "file_extension": ".py",
   "mimetype": "text/x-python",
   "name": "python",
   "nbconvert_exporter": "python",
   "pygments_lexer": "ipython3",
   "version": "3.10.8"
  }
 },
 "nbformat": 4,
 "nbformat_minor": 5
}
